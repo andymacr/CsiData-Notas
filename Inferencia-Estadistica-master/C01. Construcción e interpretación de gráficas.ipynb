{
 "cells": [
  {
   "cell_type": "markdown",
   "metadata": {},
   "source": [
    "<img src=\"logo.png\">"
   ]
  },
  {
   "cell_type": "markdown",
   "metadata": {},
   "source": [
    "# C01. Construcción e interpretación de gráficas\n",
    "\n",
    "Antes de hacer cálculos y tomar decisiones debemos introducir algunas definiciones clave. El primer paso es determinar si los datos con los que estamos tratando corresponden a una población o a una muestra.\n",
    "\n",
    "**Población:** es la recopilación de *todos* los artículos de interés para nuestro estudio. Utilizaremos $N$ para denominar tanto a la población como a su tamaño. Los números que obtenemos cuando se utiliza una población se llaman *parámetros*.\n",
    "\n",
    "**Muestra:** es un subconjunto de la población. Utilizaremos $n$ para denominar tanto a la población como a su tamaño. Los números que obtenemos cuando se utiliza una población se llaman *estadísticas* o *índices*.\n",
    "\n",
    "### Ejemplo:\n",
    "\n",
    "Digamos que queremos realizar una encuesta sobre perspectivas de empleo de los estudiantes de cierta universidad UNI. Podríamos entrar al campus de UNI y preguntar a todos los estudiantes. Sin embargo, con toda seguridad esa no sería la población total de estudiantes de la universidad, pues olvidaríamos a los que no están en ese momento en UNI.\n",
    "\n",
    "En general, las poblaciones son difíciles de definir y observar. Por otra parte, una muestra es mucho más fácil de recolectar; requiere menos tiempo e implica mucho menor gasto monetario.\n",
    "\n",
    "Así, podemos ir a la cafetería de UNI. Entrevistaremos a 50 de ellos. Esta sería una muestra de los estudiantes de UNI.\n",
    "\n",
    "|**Población**|**Muestra**|\n",
    "|:-:|:-:|\n",
    "|Difícil de observar|Fácil de observar|\n",
    "|Difícil de contactar|Fácil de contactar|"
   ]
  },
  {
   "cell_type": "markdown",
   "metadata": {},
   "source": [
    "### Muestras\n",
    "\n",
    "Las muestras son la clave para los conocimientos estadísticos precisos. Tienen dos principales caraterísticas: *aleatoriedad* y *representatividad*.\n",
    "\n",
    "|**Aleatoriedad**|**Representatividad**|\n",
    "|:-:|:-:|\n",
    "|Cuando cada miembro se elige al azar|Refleja fielmente a toda la población|\n"
   ]
  },
  {
   "cell_type": "markdown",
   "metadata": {},
   "source": [
    "## Clasificación de datos"
   ]
  },
  {
   "cell_type": "markdown",
   "metadata": {},
   "source": [
    "### Tipos de datos en Análisis Estadístico"
   ]
  },
  {
   "cell_type": "markdown",
   "metadata": {},
   "source": [
    "<img src=\"tipos_datos.png\">"
   ]
  },
  {
   "cell_type": "markdown",
   "metadata": {},
   "source": [
    "### Por su nivel de medición"
   ]
  },
  {
   "cell_type": "markdown",
   "metadata": {},
   "source": [
    "<img src=\"nivel_medicion.png\">"
   ]
  },
  {
   "cell_type": "markdown",
   "metadata": {},
   "source": [
    "### Tipos de gráficos"
   ]
  },
  {
   "attachments": {},
   "cell_type": "markdown",
   "metadata": {},
   "source": [
    "<img src=\"tipos_graficos.png\">"
   ]
  },
  {
   "cell_type": "markdown",
   "metadata": {},
   "source": [
    "#### Gráficos con Excel (instrucciones)"
   ]
  },
  {
   "cell_type": "markdown",
   "metadata": {},
   "source": [
    "<img src=\"graficos_excel.png\">"
   ]
  },
  {
   "cell_type": "markdown",
   "metadata": {},
   "source": [
    "#### Gráfico de Pareto"
   ]
  },
  {
   "cell_type": "markdown",
   "metadata": {},
   "source": [
    "<img src=\"paretto_excel.png\">"
   ]
  }
 ],
 "metadata": {
  "kernelspec": {
   "display_name": "R",
   "language": "R",
   "name": "ir"
  },
  "language_info": {
   "codemirror_mode": "r",
   "file_extension": ".r",
   "mimetype": "text/x-r-source",
   "name": "R",
   "pygments_lexer": "r",
   "version": "3.6.1"
  }
 },
 "nbformat": 4,
 "nbformat_minor": 4
}
